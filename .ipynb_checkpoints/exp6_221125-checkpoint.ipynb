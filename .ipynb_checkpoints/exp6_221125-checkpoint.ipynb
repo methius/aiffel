{
 "cells": [
  {
   "cell_type": "code",
   "execution_count": 1,
   "id": "46b6fabf-c2da-4e60-b0ae-086ce0a9523f",
   "metadata": {},
   "outputs": [
    {
     "name": "stdout",
     "output_type": "stream",
     "text": [
      "Source 문장: <start> 나는 밥을 먹었다 \n",
      "Target 문장:  나는 밥을 먹었다 <end>\n"
     ]
    }
   ],
   "source": [
    "sentence = \" 나는 밥을 먹었다 \"\n",
    "# <start>는 문장의 시작 입니다. \n",
    "# <start> 토큰을 받은 순환 신경망은 \"나는\"을 출력한다.\n",
    "# 출력된 \"나는\"이라는 단어를 다시 입력으로 사용하고 이러한 반복을 통해 \"먹었다\"까지 \n",
    "# 글을 생성한다. 마지막으로 끝(완성)을 뜻하는 <end> 토큰을 생성하여 마무리 합니다. \n",
    "source_sentence = \"<start>\" + sentence\n",
    "target_sentence = sentence + \"<end>\"\n",
    "\n",
    "print(\"Source 문장:\", source_sentence)\n",
    "# Source 문장: <start> 나는 밥을 먹었다\n",
    "print(\"Target 문장:\", target_sentence)\n",
    "# Target 문장:  나는 밥을 먹었다 <end>"
   ]
  },
  {
   "cell_type": "code",
   "execution_count": 2,
   "id": "6bd37e10-849f-4fe3-a15b-06f409f6bdde",
   "metadata": {},
   "outputs": [],
   "source": [
    "import os, re\n",
    "import numpy as np\n",
    "import tensorflow as tf"
   ]
  },
  {
   "cell_type": "code",
   "execution_count": 3,
   "id": "1b83f74c-484b-411a-bed7-5e90e4ec4886",
   "metadata": {},
   "outputs": [
    {
     "data": {
      "text/plain": [
       "'/Users/joowanha/PycharmProjects/AIFFEL/project'"
      ]
     },
     "execution_count": 3,
     "metadata": {},
     "output_type": "execute_result"
    }
   ],
   "source": [
    "os.getcwd()"
   ]
  },
  {
   "cell_type": "code",
   "execution_count": 6,
   "id": "921dfe96-a337-45ae-bc47-ef6f0d7870c9",
   "metadata": {},
   "outputs": [],
   "source": [
    "file_path = '/Users/joowanha/PycharmProjects/AIFFEL/lyrics/shakespeare.txt'"
   ]
  },
  {
   "cell_type": "code",
   "execution_count": 7,
   "id": "f325a844-28d8-4350-9572-eafd1014b96e",
   "metadata": {},
   "outputs": [],
   "source": [
    "with open(file_path, 'r') as f:\n",
    "    raw_corpus = f.read().splitlines()"
   ]
  },
  {
   "cell_type": "code",
   "execution_count": 9,
   "id": "f1acf103-8e5d-4de4-b0d0-e2e89021d188",
   "metadata": {},
   "outputs": [
    {
     "name": "stdout",
     "output_type": "stream",
     "text": [
      "['First Citizen:', 'Before we proceed any further, hear me speak.', '', 'All:', 'Speak, speak.', '', 'First Citizen:', 'You are all resolved rather to die than to famish?', '']\n"
     ]
    }
   ],
   "source": [
    "print(raw_corpus[:9])"
   ]
  },
  {
   "cell_type": "code",
   "execution_count": 11,
   "id": "1e90372a-8b89-424f-b995-1b86f7b3854d",
   "metadata": {},
   "outputs": [
    {
     "name": "stdout",
     "output_type": "stream",
     "text": [
      "Before we proceed any further, hear me speak.\n",
      "Speak, speak.\n",
      "You are all resolved rather to die than to famish?\n"
     ]
    }
   ],
   "source": [
    "for idx, sentence in enumerate(raw_corpus):\n",
    "    if len(sentence) == 0 : continue\n",
    "    if sentence[-1] == ':' : continue\n",
    "    if idx > 9 : break\n",
    "    print(sentence)"
   ]
  },
  {
   "cell_type": "code",
   "execution_count": 25,
   "id": "8d94deb7-0684-44be-9852-f569a45f0872",
   "metadata": {},
   "outputs": [],
   "source": [
    "def preprocess_sentence(sentence):\n",
    "    sentence = sentence.lower().strip()\n",
    "    sentence = re.sub(r'([?.!,])', r' \\1 ', sentence)\n",
    "    sentence = re.sub(r'[\" \"]+', \" \", sentence)\n",
    "    sentence = re.sub(r'[^a-zA-Z?.!,]+', ' ', sentence)\n",
    "    sentence = sentence.strip()\n",
    "    sentence = '<start> ' + sentence + ' <end>'\n",
    "    return sentence"
   ]
  },
  {
   "cell_type": "code",
   "execution_count": 26,
   "id": "11606235-50cf-4a90-a3b8-2463e71a342b",
   "metadata": {},
   "outputs": [
    {
     "name": "stdout",
     "output_type": "stream",
     "text": [
      "<start> this is sample sentence . <end>\n"
     ]
    }
   ],
   "source": [
    "print(preprocess_sentence(\"This @_is ;;;sample        sentence.\"))"
   ]
  },
  {
   "cell_type": "code",
   "execution_count": 29,
   "id": "9f4a7f4b-aa76-4eb2-8e99-a860b9402439",
   "metadata": {},
   "outputs": [],
   "source": [
    "corpus = []\n",
    "\n",
    "for sentence in raw_corpus:\n",
    "    if len(sentence) == 0 : continue\n",
    "    if sentence[-1] == ':': continue\n",
    "    \n",
    "    preprocessed_sentence = preprocess_sentence(sentence)\n",
    "    corpus.append(preprocessed_sentence)"
   ]
  },
  {
   "cell_type": "code",
   "execution_count": 30,
   "id": "5ab88ad0-44a6-4366-acac-5be9d2ce2d38",
   "metadata": {},
   "outputs": [
    {
     "data": {
      "text/plain": [
       "['<start> before we proceed any further , hear me speak . <end>',\n",
       " '<start> speak , speak . <end>',\n",
       " '<start> you are all resolved rather to die than to famish ? <end>',\n",
       " '<start> resolved . resolved . <end>',\n",
       " '<start> first , you know caius marcius is chief enemy to the people . <end>',\n",
       " '<start> we know t , we know t . <end>',\n",
       " '<start> let us kill him , and we ll have corn at our own price . <end>',\n",
       " '<start> is t a verdict ? <end>',\n",
       " '<start> no more talking on t let it be done away , away ! <end>',\n",
       " '<start> one word , good citizens . <end>']"
      ]
     },
     "execution_count": 30,
     "metadata": {},
     "output_type": "execute_result"
    }
   ],
   "source": [
    "corpus[:10]"
   ]
  },
  {
   "cell_type": "code",
   "execution_count": 65,
   "id": "0f92b6d5-9459-4d03-b5ae-cd115ea218ac",
   "metadata": {},
   "outputs": [
    {
     "data": {
      "text/plain": [
       "40000"
      ]
     },
     "execution_count": 65,
     "metadata": {},
     "output_type": "execute_result"
    }
   ],
   "source": [
    "len(raw_corpus)"
   ]
  },
  {
   "cell_type": "code",
   "execution_count": 66,
   "id": "fa7b1c32-1a2d-4278-ad67-d65cbd138386",
   "metadata": {},
   "outputs": [
    {
     "data": {
      "text/plain": [
       "'First Citizen:'"
      ]
     },
     "execution_count": 66,
     "metadata": {},
     "output_type": "execute_result"
    }
   ],
   "source": [
    "raw_corpus[0]"
   ]
  },
  {
   "cell_type": "code",
   "execution_count": 35,
   "id": "e4157941-0cdb-43f5-9766-e73327986b83",
   "metadata": {},
   "outputs": [],
   "source": [
    "def tokenize(corpus):\n",
    "    tokenizer = tf.keras.preprocessing.text.Tokenizer(\n",
    "        num_words=7000,\n",
    "        filters=' ',\n",
    "        oov_token='<unk>'\n",
    "    )\n",
    "    tokenizer.fit_on_texts(corpus)\n",
    "    tensor = tokenizer.texts_to_sequences(corpus)\n",
    "    tensor = tf.keras.preprocessing.sequence.pad_sequences(tensor, padding='post')\n",
    "    \n",
    "    print(tensor, tokenizer)\n",
    "    return tensor, tokenizer"
   ]
  },
  {
   "cell_type": "code",
   "execution_count": 36,
   "id": "6c92e8fa-0599-4adc-84f0-e1920226b4b6",
   "metadata": {},
   "outputs": [
    {
     "name": "stdout",
     "output_type": "stream",
     "text": [
      "[[   2  143   40 ...    0    0    0]\n",
      " [   2  110    4 ...    0    0    0]\n",
      " [   2   11   50 ...    0    0    0]\n",
      " ...\n",
      " [   2  149 4553 ...    0    0    0]\n",
      " [   2   34   71 ...    0    0    0]\n",
      " [   2  945   34 ...    0    0    0]] <keras.preprocessing.text.Tokenizer object at 0x7f8d621f5330>\n"
     ]
    }
   ],
   "source": [
    "tensor, tokenizer = tokenize(corpus)"
   ]
  },
  {
   "cell_type": "code",
   "execution_count": 39,
   "id": "40651419-7355-4288-9be4-71928686716b",
   "metadata": {},
   "outputs": [
    {
     "name": "stdout",
     "output_type": "stream",
     "text": [
      "2\n"
     ]
    }
   ],
   "source": [
    "print(tensor[0,0])"
   ]
  },
  {
   "cell_type": "code",
   "execution_count": 40,
   "id": "709ec408-258d-4351-9495-4f79eb992aee",
   "metadata": {},
   "outputs": [
    {
     "data": {
      "text/plain": [
       "array([  2, 143,  40, 933, 140, 591,   4, 124,  24, 110,   5,   3,   0,\n",
       "         0,   0,   0,   0,   0,   0,   0,   0], dtype=int32)"
      ]
     },
     "execution_count": 40,
     "metadata": {},
     "output_type": "execute_result"
    }
   ],
   "source": [
    "tensor[0]"
   ]
  },
  {
   "cell_type": "code",
   "execution_count": 44,
   "id": "a14757a9-c692-4408-9785-161c75092e3d",
   "metadata": {},
   "outputs": [
    {
     "name": "stdout",
     "output_type": "stream",
     "text": [
      "[[   2  143   40  933  140  591    4  124   24  110    5    3    0    0]\n",
      " [   2  110    4  110    5    3    0    0    0    0    0    0    0    0]\n",
      " [   2   11   50   43 1201  316    9  201   74    9 3034   15    3    0]]\n"
     ]
    }
   ],
   "source": [
    "print(tensor[:3, :14])"
   ]
  },
  {
   "cell_type": "code",
   "execution_count": 45,
   "id": "ca7930d9-580f-43b9-a5c7-433a98b40026",
   "metadata": {},
   "outputs": [
    {
     "name": "stdout",
     "output_type": "stream",
     "text": [
      "<keras.preprocessing.text.Tokenizer object at 0x7f8d621f5330>\n"
     ]
    }
   ],
   "source": [
    "print(tokenizer)"
   ]
  },
  {
   "cell_type": "code",
   "execution_count": 50,
   "id": "12c297e1-9d83-4f35-9b36-9ddd893e5573",
   "metadata": {},
   "outputs": [
    {
     "name": "stdout",
     "output_type": "stream",
     "text": [
      "['__class__', '__delattr__', '__dict__', '__dir__', '__doc__', '__eq__', '__format__', '__ge__', '__getattribute__', '__gt__', '__hash__', '__init__', '__init_subclass__', '__le__', '__lt__', '__module__', '__ne__', '__new__', '__reduce__', '__reduce_ex__', '__repr__', '__setattr__', '__sizeof__', '__str__', '__subclasshook__', '__weakref__', '_keras_api_names', '_keras_api_names_v1', 'analyzer', 'char_level', 'document_count', 'filters', 'fit_on_sequences', 'fit_on_texts', 'get_config', 'index_docs', 'index_word', 'lower', 'num_words', 'oov_token', 'sequences_to_matrix', 'sequences_to_texts', 'sequences_to_texts_generator', 'split', 'texts_to_matrix', 'texts_to_sequences', 'texts_to_sequences_generator', 'to_json', 'word_counts', 'word_docs', 'word_index']\n"
     ]
    }
   ],
   "source": [
    "print(dir(tokenizer))"
   ]
  },
  {
   "cell_type": "code",
   "execution_count": 51,
   "id": "168ca068-7b76-487b-9702-84f75df81457",
   "metadata": {},
   "outputs": [
    {
     "name": "stdout",
     "output_type": "stream",
     "text": [
      "1 : <unk>\n",
      "2 : <start>\n",
      "3 : <end>\n",
      "4 : ,\n",
      "5 : .\n",
      "6 : the\n",
      "7 : and\n",
      "8 : i\n",
      "9 : to\n",
      "10 : of\n"
     ]
    }
   ],
   "source": [
    "for idx in tokenizer.index_word :\n",
    "    print(idx, \":\", tokenizer.index_word[idx])\n",
    "    \n",
    "    if idx >= 10: break"
   ]
  },
  {
   "cell_type": "code",
   "execution_count": 53,
   "id": "75ccad77-e3c1-4084-97e9-c5c5a282e1e3",
   "metadata": {},
   "outputs": [],
   "source": [
    "src_input = tensor[:, :-1]"
   ]
  },
  {
   "cell_type": "code",
   "execution_count": 60,
   "id": "3ea28e52-abc8-48e0-ad1b-f7f1af4273f3",
   "metadata": {},
   "outputs": [],
   "source": [
    "tgt_input = tensor[:, 1:]"
   ]
  },
  {
   "cell_type": "code",
   "execution_count": 56,
   "id": "65fcddf2-7c24-446e-ac9f-866ca6799458",
   "metadata": {},
   "outputs": [
    {
     "name": "stdout",
     "output_type": "stream",
     "text": [
      "[  2 143  40 933 140 591   4 124  24 110   5   3   0   0   0   0   0   0\n",
      "   0   0]\n"
     ]
    }
   ],
   "source": [
    "print(src_input[0])"
   ]
  },
  {
   "cell_type": "code",
   "execution_count": 62,
   "id": "40a9acd0-d411-4227-9fb5-50eeec6a7be3",
   "metadata": {},
   "outputs": [
    {
     "name": "stdout",
     "output_type": "stream",
     "text": [
      "[143  40 933 140 591   4 124  24 110   5   3   0   0   0   0   0   0   0\n",
      "   0   0]\n"
     ]
    }
   ],
   "source": [
    "print(tgt_input[0])"
   ]
  },
  {
   "cell_type": "code",
   "execution_count": 69,
   "id": "1c6b0752-320a-406b-a060-ca147680e6b6",
   "metadata": {},
   "outputs": [
    {
     "data": {
      "text/plain": [
       "24015"
      ]
     },
     "execution_count": 69,
     "metadata": {},
     "output_type": "execute_result"
    }
   ],
   "source": [
    "len(src_input)"
   ]
  },
  {
   "cell_type": "code",
   "execution_count": 72,
   "id": "5a44c244-b939-41e1-b8fd-18d9edca9c6f",
   "metadata": {},
   "outputs": [
    {
     "data": {
      "text/plain": [
       "20"
      ]
     },
     "execution_count": 72,
     "metadata": {},
     "output_type": "execute_result"
    }
   ],
   "source": [
    "len(src_input[0])"
   ]
  },
  {
   "cell_type": "code",
   "execution_count": 63,
   "id": "c9be933a-16ea-4489-bc7c-16e4d3ba82af",
   "metadata": {},
   "outputs": [],
   "source": [
    "BUFFER_SIZE = len(src_input)\n",
    "BATCH_SIZE = 256\n",
    "steps_per_epoch = len(src_input) // BATCH_SIZE"
   ]
  },
  {
   "cell_type": "code",
   "execution_count": 64,
   "id": "9676a848-8554-46a1-978e-48470466d90d",
   "metadata": {},
   "outputs": [],
   "source": [
    "VOCAB_SIZE = tokenizer.num_words + 1"
   ]
  },
  {
   "cell_type": "code",
   "execution_count": 67,
   "id": "e8ddc023-b07c-43d6-ae19-fe995de853b9",
   "metadata": {},
   "outputs": [
    {
     "name": "stderr",
     "output_type": "stream",
     "text": [
      "2022-11-25 12:03:17.101469: I tensorflow/core/platform/cpu_feature_guard.cc:193] This TensorFlow binary is optimized with oneAPI Deep Neural Network Library (oneDNN) to use the following CPU instructions in performance-critical operations:  SSE4.1 SSE4.2\n",
      "To enable them in other operations, rebuild TensorFlow with the appropriate compiler flags.\n"
     ]
    }
   ],
   "source": [
    "dataset = tf.data.Dataset.from_tensor_slices((src_input, tgt_input))\n",
    "dataset = dataset.shuffle(BUFFER_SIZE)\n",
    "dataset = dataset.batch(BATCH_SIZE, drop_remainder=True)"
   ]
  },
  {
   "cell_type": "code",
   "execution_count": 68,
   "id": "74096a78-1aee-4f3d-bd33-6775a3b00375",
   "metadata": {},
   "outputs": [
    {
     "data": {
      "text/plain": [
       "<BatchDataset element_spec=(TensorSpec(shape=(256, 20), dtype=tf.int32, name=None), TensorSpec(shape=(256, 20), dtype=tf.int32, name=None))>"
      ]
     },
     "execution_count": 68,
     "metadata": {},
     "output_type": "execute_result"
    }
   ],
   "source": [
    "dataset"
   ]
  },
  {
   "cell_type": "code",
   "execution_count": 73,
   "id": "900f67bb-ed10-48ab-a745-6b423f7d9213",
   "metadata": {},
   "outputs": [
    {
     "data": {
      "text/plain": [
       "['_GeneratorState',\n",
       " '__abstractmethods__',\n",
       " '__bool__',\n",
       " '__class__',\n",
       " '__class_getitem__',\n",
       " '__debug_string__',\n",
       " '__delattr__',\n",
       " '__dict__',\n",
       " '__dir__',\n",
       " '__doc__',\n",
       " '__eq__',\n",
       " '__format__',\n",
       " '__ge__',\n",
       " '__getattribute__',\n",
       " '__gt__',\n",
       " '__hash__',\n",
       " '__init__',\n",
       " '__init_subclass__',\n",
       " '__iter__',\n",
       " '__le__',\n",
       " '__len__',\n",
       " '__lt__',\n",
       " '__module__',\n",
       " '__ne__',\n",
       " '__new__',\n",
       " '__nonzero__',\n",
       " '__reduce__',\n",
       " '__reduce_ex__',\n",
       " '__repr__',\n",
       " '__setattr__',\n",
       " '__sizeof__',\n",
       " '__slots__',\n",
       " '__str__',\n",
       " '__subclasshook__',\n",
       " '__tf_tracing_type__',\n",
       " '__weakref__',\n",
       " '_abc_impl',\n",
       " '_add_trackable_child',\n",
       " '_add_variable_with_custom_getter',\n",
       " '_apply_debug_options',\n",
       " '_as_serialized_graph',\n",
       " '_batch_size',\n",
       " '_checkpoint_dependencies',\n",
       " '_common_args',\n",
       " '_consumers',\n",
       " '_deferred_dependencies',\n",
       " '_deserialization_dependencies',\n",
       " '_deserialize_from_proto',\n",
       " '_drop_remainder',\n",
       " '_export_to_saved_model_graph',\n",
       " '_flat_shapes',\n",
       " '_flat_structure',\n",
       " '_flat_types',\n",
       " '_functions',\n",
       " '_gather_saveables_for_checkpoint',\n",
       " '_get_legacy_saved_model_children',\n",
       " '_graph',\n",
       " '_graph_attr',\n",
       " '_handle_deferred_dependencies',\n",
       " '_input_dataset',\n",
       " '_inputs',\n",
       " '_list_extra_dependencies_for_serialization',\n",
       " '_list_functions_for_serialization',\n",
       " '_lookup_dependency',\n",
       " '_map_resources',\n",
       " '_maybe_initialize_trackable',\n",
       " '_maybe_track_assets',\n",
       " '_metadata',\n",
       " '_name',\n",
       " '_name_based_attribute_restore',\n",
       " '_name_based_restores',\n",
       " '_no_dependency',\n",
       " '_object_identifier',\n",
       " '_options',\n",
       " '_options_attr',\n",
       " '_options_tensor_to_options',\n",
       " '_preload_simple_restoration',\n",
       " '_restore_from_checkpoint_position',\n",
       " '_restore_from_tensors',\n",
       " '_serialize_to_proto',\n",
       " '_serialize_to_tensors',\n",
       " '_setattr_tracking',\n",
       " '_shape_invariant_to_type_spec',\n",
       " '_single_restoration_from_checkpoint_position',\n",
       " '_structure',\n",
       " '_tf_api_names',\n",
       " '_tf_api_names_v1',\n",
       " '_trace_variant_creation',\n",
       " '_track_trackable',\n",
       " '_trackable_children',\n",
       " '_type_spec',\n",
       " '_unconditional_checkpoint_dependencies',\n",
       " '_unconditional_dependency_names',\n",
       " '_update_uid',\n",
       " '_variant_tensor',\n",
       " '_variant_tensor_attr',\n",
       " 'apply',\n",
       " 'as_numpy_iterator',\n",
       " 'batch',\n",
       " 'bucket_by_sequence_length',\n",
       " 'cache',\n",
       " 'cardinality',\n",
       " 'choose_from_datasets',\n",
       " 'concatenate',\n",
       " 'element_spec',\n",
       " 'enumerate',\n",
       " 'filter',\n",
       " 'flat_map',\n",
       " 'from_generator',\n",
       " 'from_tensor_slices',\n",
       " 'from_tensors',\n",
       " 'get_single_element',\n",
       " 'group_by_window',\n",
       " 'interleave',\n",
       " 'list_files',\n",
       " 'map',\n",
       " 'options',\n",
       " 'padded_batch',\n",
       " 'prefetch',\n",
       " 'random',\n",
       " 'range',\n",
       " 'reduce',\n",
       " 'rejection_resample',\n",
       " 'repeat',\n",
       " 'sample_from_datasets',\n",
       " 'scan',\n",
       " 'shard',\n",
       " 'shuffle',\n",
       " 'skip',\n",
       " 'snapshot',\n",
       " 'take',\n",
       " 'take_while',\n",
       " 'unbatch',\n",
       " 'unique',\n",
       " 'window',\n",
       " 'with_options',\n",
       " 'zip']"
      ]
     },
     "execution_count": 73,
     "metadata": {},
     "output_type": "execute_result"
    }
   ],
   "source": [
    "dir(dataset)"
   ]
  },
  {
   "cell_type": "code",
   "execution_count": 83,
   "id": "c92e4d15-dfbc-4dcb-bfec-e5c5bc966634",
   "metadata": {},
   "outputs": [
    {
     "name": "stdout",
     "output_type": "stream",
     "text": [
      "(<tf.Tensor: shape=(256, 20), dtype=int32, numpy=\n",
      "array([[   2,   71,   24, ...,    0,    0,    0],\n",
      "       [   2,   25,  159, ...,    0,    0,    0],\n",
      "       [   2,  120,   46, ...,    0,    0,    0],\n",
      "       ...,\n",
      "       [   2,  314,    7, ...,    0,    0,    0],\n",
      "       [   2,    9, 4276, ...,    0,    0,    0],\n",
      "       [   2, 6048,    6, ...,    0,    0,    0]], dtype=int32)>, <tf.Tensor: shape=(256, 20), dtype=int32, numpy=\n",
      "array([[  71,   24,   31, ...,    0,    0,    0],\n",
      "       [  25,  159, 3646, ...,    0,    0,    0],\n",
      "       [ 120,   46,   34, ...,    0,    0,    0],\n",
      "       ...,\n",
      "       [ 314,    7,   26, ...,    0,    0,    0],\n",
      "       [   9, 4276,   87, ...,    0,    0,    0],\n",
      "       [6048,    6,  438, ...,    0,    0,    0]], dtype=int32)>)\n"
     ]
    }
   ],
   "source": [
    "i = 0\n",
    "for sample in dataset :\n",
    "    if i < 1:\n",
    "        print(sample)\n",
    "    else : break\n",
    "    i += 1 "
   ]
  },
  {
   "cell_type": "code",
   "execution_count": 88,
   "id": "5e77af3f-3811-45cd-b9e0-64eeef00a8b8",
   "metadata": {},
   "outputs": [],
   "source": [
    "class TextGenerator(tf.keras.Model):\n",
    "    def __init__(self, vocab_size, embedding_size, hidden_size):\n",
    "        super().__init__()\n",
    "        self.embedding = tf.keras.layers.Embedding(vocab_size, embedding_size)\n",
    "        self.rnn_1 = tf.keras.layers.LSTM(hidden_size, return_sequences=True)\n",
    "        self.rnn_2 = tf.keras.layers.LSTM(hidden_size, return_sequences=True)\n",
    "        self.linear = tf.keras.layers.Dense(vocab_size)\n",
    "        \n",
    "    def call(self, x):\n",
    "        out = self.embedding(x)\n",
    "        out = self.rnn_1(out)\n",
    "        out = self.rnn_2(out)\n",
    "        out = self.linear(out)\n",
    "        \n",
    "        return out\n",
    "    \n",
    "embedding_size = 256\n",
    "hidden_size = 1024\n",
    "model = TextGenerator(tokenizer.num_words + 1, embedding_size, hidden_size)"
   ]
  },
  {
   "cell_type": "code",
   "execution_count": 89,
   "id": "ed40e5e8-250d-4a0d-b0ec-eccef6d73227",
   "metadata": {},
   "outputs": [],
   "source": [
    "for src_sample, tgt_sample in dataset.take(1): break"
   ]
  },
  {
   "cell_type": "code",
   "execution_count": 90,
   "id": "2428fd11-b75d-4636-bc3c-47d99a3685b5",
   "metadata": {},
   "outputs": [
    {
     "data": {
      "text/plain": [
       "<tf.Tensor: shape=(256, 20, 7001), dtype=float32, numpy=\n",
       "array([[[ 1.44534322e-04,  3.70757334e-04, -7.25606005e-05, ...,\n",
       "         -1.19911841e-04, -2.34439867e-04, -3.27364651e-05],\n",
       "        [ 2.86474329e-04,  6.70218898e-04, -4.39357333e-04, ...,\n",
       "         -2.44967057e-04, -4.15275921e-04,  5.29773708e-04],\n",
       "        [ 3.24533612e-04,  8.06174474e-04, -6.10205403e-04, ...,\n",
       "         -7.07736821e-04, -4.78244852e-04,  1.01226510e-03],\n",
       "        ...,\n",
       "        [ 2.64809642e-04, -1.44217163e-03, -8.85048066e-04, ...,\n",
       "         -1.74949190e-03, -3.02353117e-04,  1.50539482e-03],\n",
       "        [ 4.88101738e-04, -2.16178363e-03, -1.36829633e-03, ...,\n",
       "         -2.02134508e-03, -5.32328617e-04,  1.63685391e-03],\n",
       "        [ 6.47747889e-04, -2.78236088e-03, -1.86683191e-03, ...,\n",
       "         -2.29873718e-03, -7.34247966e-04,  1.78448693e-03]],\n",
       "\n",
       "       [[ 1.44534322e-04,  3.70757334e-04, -7.25606005e-05, ...,\n",
       "         -1.19911841e-04, -2.34439867e-04, -3.27364651e-05],\n",
       "        [ 5.75172162e-05,  6.68061955e-04, -2.96964514e-04, ...,\n",
       "          5.42506168e-05, -4.53825720e-04,  5.61709603e-05],\n",
       "        [ 5.29126410e-05,  5.58984815e-04, -2.43160292e-04, ...,\n",
       "          2.13993102e-04, -5.59700944e-04,  1.65401972e-04],\n",
       "        ...,\n",
       "        [ 6.88087195e-04, -4.57799667e-03, -3.79955769e-03, ...,\n",
       "         -3.53488303e-03, -1.96013902e-03,  2.07239529e-03],\n",
       "        [ 5.29459678e-04, -4.65944037e-03, -4.06797277e-03, ...,\n",
       "         -3.81945958e-03, -1.92765961e-03,  2.23370572e-03],\n",
       "        [ 3.57862562e-04, -4.71426314e-03, -4.29624785e-03, ...,\n",
       "         -4.06715926e-03, -1.90062518e-03,  2.37335311e-03]],\n",
       "\n",
       "       [[ 1.44534322e-04,  3.70757334e-04, -7.25606005e-05, ...,\n",
       "         -1.19911841e-04, -2.34439867e-04, -3.27364651e-05],\n",
       "        [ 1.60456548e-04,  4.18219483e-04,  3.37358564e-04, ...,\n",
       "         -1.67945691e-04, -4.88368096e-04,  1.64845085e-04],\n",
       "        [ 1.98102134e-04,  3.06539223e-05,  6.70401438e-04, ...,\n",
       "         -1.74684916e-04, -4.24718135e-04,  5.31466561e-04],\n",
       "        ...,\n",
       "        [ 6.85009814e-04, -3.99484113e-03, -3.22377216e-03, ...,\n",
       "         -2.34483858e-03, -1.86953740e-03,  2.41462444e-03],\n",
       "        [ 6.81045698e-04, -4.24786285e-03, -3.55736911e-03, ...,\n",
       "         -2.73229368e-03, -1.88300118e-03,  2.52884254e-03],\n",
       "        [ 6.23916159e-04, -4.43901960e-03, -3.84840276e-03, ...,\n",
       "         -3.08925193e-03, -1.88480946e-03,  2.63299979e-03]],\n",
       "\n",
       "       ...,\n",
       "\n",
       "       [[ 1.44534322e-04,  3.70757334e-04, -7.25606005e-05, ...,\n",
       "         -1.19911841e-04, -2.34439867e-04, -3.27364651e-05],\n",
       "        [-1.12966745e-05,  5.54653059e-04, -1.92370862e-05, ...,\n",
       "         -4.90593316e-04, -4.62045078e-04, -2.05761346e-04],\n",
       "        [ 2.46291107e-04,  4.26315761e-04,  2.10685648e-05, ...,\n",
       "         -9.22746374e-04, -1.05847302e-03, -4.56772104e-05],\n",
       "        ...,\n",
       "        [ 6.45550899e-04, -4.50080866e-03, -3.68860341e-03, ...,\n",
       "         -3.42952018e-03, -1.43397390e-03,  2.51195231e-03],\n",
       "        [ 4.72162152e-04, -4.62057907e-03, -3.98321496e-03, ...,\n",
       "         -3.68732912e-03, -1.50676561e-03,  2.61483202e-03],\n",
       "        [ 2.91498553e-04, -4.70658951e-03, -4.23284899e-03, ...,\n",
       "         -3.91866872e-03, -1.57022569e-03,  2.69891834e-03]],\n",
       "\n",
       "       [[ 1.44534322e-04,  3.70757334e-04, -7.25606005e-05, ...,\n",
       "         -1.19911841e-04, -2.34439867e-04, -3.27364651e-05],\n",
       "        [ 8.02975774e-05,  3.38203245e-04,  5.56244922e-05, ...,\n",
       "         -5.38216846e-05, -2.40866430e-04, -2.60003668e-04],\n",
       "        [ 9.75955118e-05,  3.29947012e-04,  9.57578668e-05, ...,\n",
       "         -4.13604954e-04, -2.57847481e-04, -1.55717775e-04],\n",
       "        ...,\n",
       "        [ 5.23191644e-04, -7.55308312e-04, -5.10643935e-04, ...,\n",
       "         -2.16881908e-03, -4.13288421e-04,  8.19910201e-04],\n",
       "        [ 6.12148724e-04, -1.57747569e-03, -9.75187868e-04, ...,\n",
       "         -2.49612727e-03, -7.41986209e-04,  1.17556215e-03],\n",
       "        [ 6.60736405e-04, -2.28940649e-03, -1.45377056e-03, ...,\n",
       "         -2.80901906e-03, -1.01704278e-03,  1.50807155e-03]],\n",
       "\n",
       "       [[ 1.44534322e-04,  3.70757334e-04, -7.25606005e-05, ...,\n",
       "         -1.19911841e-04, -2.34439867e-04, -3.27364651e-05],\n",
       "        [ 1.95342000e-06,  6.40786311e-04, -3.42299463e-04, ...,\n",
       "         -7.61433766e-05, -4.21140925e-04,  3.80327052e-04],\n",
       "        [-3.15201032e-04,  6.33309246e-04, -4.64361714e-04, ...,\n",
       "         -1.69368490e-04, -8.58843094e-04,  6.28859503e-04],\n",
       "        ...,\n",
       "        [ 7.64018274e-04, -3.03047406e-03, -3.07026133e-03, ...,\n",
       "         -1.43552758e-03, -1.59207010e-03,  1.50455220e-03],\n",
       "        [ 7.81489187e-04, -3.42419022e-03, -3.39259207e-03, ...,\n",
       "         -1.90811954e-03, -1.70949835e-03,  1.68985256e-03],\n",
       "        [ 7.39142881e-04, -3.73929972e-03, -3.68233072e-03, ...,\n",
       "         -2.34970869e-03, -1.78841013e-03,  1.86693924e-03]]],\n",
       "      dtype=float32)>"
      ]
     },
     "execution_count": 90,
     "metadata": {},
     "output_type": "execute_result"
    }
   ],
   "source": [
    "model(src_sample)"
   ]
  },
  {
   "cell_type": "code",
   "execution_count": 91,
   "id": "75d18c49-2c3f-4078-abaa-2ae530f5bfa8",
   "metadata": {},
   "outputs": [
    {
     "name": "stdout",
     "output_type": "stream",
     "text": [
      "Model: \"text_generator_1\"\n",
      "_________________________________________________________________\n",
      " Layer (type)                Output Shape              Param #   \n",
      "=================================================================\n",
      " embedding_1 (Embedding)     multiple                  1792256   \n",
      "                                                                 \n",
      " lstm (LSTM)                 multiple                  5246976   \n",
      "                                                                 \n",
      " lstm_1 (LSTM)               multiple                  8392704   \n",
      "                                                                 \n",
      " dense (Dense)               multiple                  7176025   \n",
      "                                                                 \n",
      "=================================================================\n",
      "Total params: 22,607,961\n",
      "Trainable params: 22,607,961\n",
      "Non-trainable params: 0\n",
      "_________________________________________________________________\n"
     ]
    }
   ],
   "source": [
    "model.summary()"
   ]
  },
  {
   "cell_type": "code",
   "execution_count": 92,
   "id": "7f51f79e-5618-413a-800d-5f9a9ce3c9cc",
   "metadata": {},
   "outputs": [
    {
     "name": "stdout",
     "output_type": "stream",
     "text": [
      "WARNING:tensorflow:From /var/folders/5f/hvh_0cjn23gb8801jkdrsc540000gn/T/ipykernel_32793/337460670.py:1: is_gpu_available (from tensorflow.python.framework.test_util) is deprecated and will be removed in a future version.\n",
      "Instructions for updating:\n",
      "Use `tf.config.list_physical_devices('GPU')` instead.\n"
     ]
    },
    {
     "data": {
      "text/plain": [
       "False"
      ]
     },
     "execution_count": 92,
     "metadata": {},
     "output_type": "execute_result"
    }
   ],
   "source": [
    "tf.test.is_gpu_available()"
   ]
  },
  {
   "cell_type": "code",
   "execution_count": 93,
   "id": "639de623-5840-46f3-af45-2317a80a645d",
   "metadata": {},
   "outputs": [
    {
     "data": {
      "text/plain": [
       "[]"
      ]
     },
     "execution_count": 93,
     "metadata": {},
     "output_type": "execute_result"
    }
   ],
   "source": [
    "tf.config.list_physical_devices('GPU')"
   ]
  },
  {
   "cell_type": "code",
   "execution_count": 98,
   "id": "b74acecc-12a4-4e9d-aa4e-429076c703d9",
   "metadata": {},
   "outputs": [],
   "source": [
    "optimizer = tf.keras.optimizers.Adam()\n",
    "\n",
    "loss = tf.keras.losses.SparseCategoricalCrossentropy(\n",
    "    from_logits=True,\n",
    "    reduction='none'\n",
    ")\n",
    "\n",
    "model.compile(loss=loss, optimizer=optimizer)\n",
    "model.fit(dataset, epochs=30)"
   ]
  },
  {
   "cell_type": "code",
   "execution_count": 99,
   "id": "658d5883-d3ff-4198-8be0-6f4a358bddbe",
   "metadata": {},
   "outputs": [],
   "source": [
    "def generate_text(model, tokenizer, init_sentence=\"<start>\", max_len=20):\n",
    "    test_input = tokenizer.texts_to_sequences([init_sentence])\n",
    "    test_tensor = tf.convert_to_tensor(test_input, dtype=tf.int64)\n",
    "    end_token = tokenizer.word_index[\"<end>\"]\n",
    "    \n",
    "    while True:\n",
    "        predict = model(test_tensor)\n",
    "        predict_word = tf.argmez(tf.nn.softmax(predict, axis=-1), axis=-1)[:, -1]\n",
    "        test_tensor = tf.concat([test_tensor, tf.expand_dims(predict_word, axis=0)], axis=-1)\n",
    "        \n",
    "        if predict_word.numpy()[0] == end_token: break\n",
    "        if test_tensor.shape[1] >= max_len: break\n",
    "        \n",
    "    generated = \"\"\n",
    "    for word_index in test_tensor[0].numpy():\n",
    "        generated += tokenizer.index_word[word_index] + \" \"\n",
    "        \n",
    "    return generated"
   ]
  },
  {
   "cell_type": "code",
   "execution_count": null,
   "id": "b5d3e6cd-c380-4602-bfbf-6a5927cd9452",
   "metadata": {},
   "outputs": [],
   "source": [
    "import glob\n",
    "import os\n",
    "\n",
    "txt_file_path = os.getenv('HOME')+'/aiffel/lyricist/data/lyrics/*' #os.getenv(x)함수는 환경 변수x의 값을 포함하는 문자열 변수를 반환합니다. txt_file_path 에 \"/root/aiffel/lyricist/data/lyrics/*\" 저장\n",
    "\n",
    "txt_list = glob.glob(txt_file_path) #txt_file_path 경로에 있는 모든 파일명을 리스트 형식으로 txt_list 에 할당\n",
    "\n",
    "raw_corpus = [] \n",
    "\n",
    "# 여러개의 txt 파일을 모두 읽어서 raw_corpus 에 담습니다.\n",
    "for txt_file in txt_list:\n",
    "    with open(txt_file, \"r\") as f:\n",
    "        raw = f.read().splitlines() #read() : 파일 전체의 내용을 하나의 문자열로 읽어온다. , splitlines()  : 여러라인으로 구분되어 있는 문자열을 한라인씩 분리하여 리스트로 반환\n",
    "        raw_corpus.extend(raw) # extend() : 리스트함수로 추가적인 내용을 연장 한다.\n",
    "\n",
    "print(\"데이터 크기:\", len(raw_corpus))\n",
    "print(\"Examples:\\n\", raw_corpus[:3])"
   ]
  }
 ],
 "metadata": {
  "kernelspec": {
   "display_name": "Python 3 (ipykernel)",
   "language": "python",
   "name": "python3"
  },
  "language_info": {
   "codemirror_mode": {
    "name": "ipython",
    "version": 3
   },
   "file_extension": ".py",
   "mimetype": "text/x-python",
   "name": "python",
   "nbconvert_exporter": "python",
   "pygments_lexer": "ipython3",
   "version": "3.10.6"
  }
 },
 "nbformat": 4,
 "nbformat_minor": 5
}
